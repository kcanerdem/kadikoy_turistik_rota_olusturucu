{
 "cells": [
  {
   "cell_type": "code",
   "execution_count": null,
   "id": "c4bd2230",
   "metadata": {},
   "outputs": [],
   "source": [
    "import osmnx as ox\n",
    "import geopandas as gpd\n",
    "\n",
    "\n",
    "tags = {\n",
    "    \"tourism\": [\"hotel\", \"motel\", \"hostel\",]\n",
    "}\n",
    "gdf_oteller = ox.features_from_place(\"Kadıköy, İstanbul, Türkiye\", tags)\n",
    "\n",
    "\n",
    "gdf_oteller = gdf_oteller[[\"name\", \"tourism\", \"geometry\"]].dropna(subset=[\"name\"])\n",
    "gdf_oteller['geometry']=gdf_oteller.geometry.centroid\n",
    "\n",
    "gdf_oteller.to_file(\"kadikoy_oteller.shp\",driver=\"ESRI Shapefile\")"
   ]
  },
  {
   "cell_type": "code",
   "execution_count": null,
   "id": "7f905335",
   "metadata": {},
   "outputs": [],
   "source": [
    "\n",
    "tags = {\n",
    "    'tourism': ['attraction', 'museum', 'gallery','artwork','theme_park'],\n",
    "    'natural': ['beach'],\n",
    "    'leisure':\t['garden','park','common'],\n",
    "    'historic': True,\n",
    "    'building': ['theatre'],               \n",
    "    'amenity': ['arts_centre','place_of_worship','theatre'],\n",
    "    'shop': ['antiques'],\n",
    "    'place': ['square'],\n",
    "    'shop': ['mall'],\n",
    "    'religion': ['christian']\n",
    "}\n",
    "\n",
    "\n",
    "\n",
    "\n",
    "kadikoy_pois = ox.features_from_place('Kadıköy, İstanbul, Turkey', tags=tags)\n",
    "kadikoy_pois = kadikoy_pois[['name', 'tourism','natural','historic','leisure','place','building','amenity','religion','geometry']]\n",
    "kadikoy_pois = kadikoy_pois.dropna(subset=['name'])\n",
    "kadikoy_pois[\"geometry\"] = kadikoy_pois.geometry.centroid\n",
    "\n",
    "\n",
    "# Veriyi kontrol edelim\n",
    "print(f\"Bulunan turistik yerler: {len(kadikoy_pois)}\")"
   ]
  }
 ],
 "metadata": {
  "language_info": {
   "name": "python"
  }
 },
 "nbformat": 4,
 "nbformat_minor": 5
}
